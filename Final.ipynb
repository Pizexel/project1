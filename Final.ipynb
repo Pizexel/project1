{
  "nbformat": 4,
  "nbformat_minor": 0,
  "metadata": {
    "colab": {
      "provenance": [],
      "authorship_tag": "ABX9TyODt9BBygRCVbiYZU7kDHlU",
      "include_colab_link": true
    },
    "kernelspec": {
      "name": "python3",
      "display_name": "Python 3"
    },
    "language_info": {
      "name": "python"
    }
  },
  "cells": [
    {
      "cell_type": "markdown",
      "metadata": {
        "id": "view-in-github",
        "colab_type": "text"
      },
      "source": [
        "<a href=\"https://colab.research.google.com/github/Pizexel/project1/blob/main/Final.ipynb\" target=\"_parent\"><img src=\"https://colab.research.google.com/assets/colab-badge.svg\" alt=\"Open In Colab\"/></a>"
      ]
    },
    {
      "cell_type": "code",
      "source": [
        "!pip install wikipedia"
      ],
      "metadata": {
        "colab": {
          "base_uri": "https://localhost:8080/"
        },
        "id": "RB_PKWW02r8Z",
        "outputId": "d3cf4c48-9195-45ae-faf5-52984aa14acf"
      },
      "execution_count": 4,
      "outputs": [
        {
          "output_type": "stream",
          "name": "stdout",
          "text": [
            "Requirement already satisfied: wikipedia in /usr/local/lib/python3.10/dist-packages (1.4.0)\n",
            "Requirement already satisfied: beautifulsoup4 in /usr/local/lib/python3.10/dist-packages (from wikipedia) (4.11.2)\n",
            "Requirement already satisfied: requests<3.0.0,>=2.0.0 in /usr/local/lib/python3.10/dist-packages (from wikipedia) (2.31.0)\n",
            "Requirement already satisfied: charset-normalizer<4,>=2 in /usr/local/lib/python3.10/dist-packages (from requests<3.0.0,>=2.0.0->wikipedia) (3.3.2)\n",
            "Requirement already satisfied: idna<4,>=2.5 in /usr/local/lib/python3.10/dist-packages (from requests<3.0.0,>=2.0.0->wikipedia) (3.6)\n",
            "Requirement already satisfied: urllib3<3,>=1.21.1 in /usr/local/lib/python3.10/dist-packages (from requests<3.0.0,>=2.0.0->wikipedia) (2.0.7)\n",
            "Requirement already satisfied: certifi>=2017.4.17 in /usr/local/lib/python3.10/dist-packages (from requests<3.0.0,>=2.0.0->wikipedia) (2023.11.17)\n",
            "Requirement already satisfied: soupsieve>1.2 in /usr/local/lib/python3.10/dist-packages (from beautifulsoup4->wikipedia) (2.5)\n"
          ]
        }
      ]
    },
    {
      "cell_type": "code",
      "execution_count": 8,
      "metadata": {
        "colab": {
          "base_uri": "https://localhost:8080/"
        },
        "id": "6iCMv84k2na6",
        "outputId": "19783ad5-ff9b-49fe-fae6-33b1283e414a"
      },
      "outputs": [
        {
          "name": "stdout",
          "output_type": "stream",
          "text": [
            "Welcome! Ask me anything.\n",
            ">Who is the president of Kenya\n"
          ]
        },
        {
          "output_type": "stream",
          "name": "stderr",
          "text": [
            "No model was supplied, defaulted to distilbert-base-cased-distilled-squad and revision 626af31 (https://huggingface.co/distilbert-base-cased-distilled-squad).\n",
            "Using a pipeline without specifying a model name and revision in production is not recommended.\n"
          ]
        },
        {
          "output_type": "stream",
          "name": "stdout",
          "text": [
            "{'score': 0.7542489171028137, 'start': 321, 'end': 333, 'answer': 'William Ruto'}\n"
          ]
        }
      ],
      "source": [
        "from transformers import pipeline\n",
        "import wikipedia\n",
        "\n",
        "def processor(question, text):\n",
        "    # Create a question answering pipeline\n",
        "    qa = pipeline(\"question-answering\")\n",
        "\n",
        "    # Get the answer from the pipeline\n",
        "    answer = qa(question=question, context=text)\n",
        "\n",
        "    # Print the answer\n",
        "    print(answer)\n",
        "\n",
        "wikipedia.set_lang(\"en\")\n",
        "\n",
        "print(\"Welcome! Ask me anything.\")\n",
        "\n",
        "# get user input\n",
        "user_input = input(\">\")\n",
        "\n",
        "# search for query on Wikipedia\n",
        "try:\n",
        "    page = wikipedia.page(user_input)\n",
        "    text = page.summary\n",
        "    question = user_input\n",
        "    processor(question, text)\n",
        "except wikipedia.exceptions.DisambiguationError as e:\n",
        "    print(\"Can you please be more specific?\")\n",
        "except wikipedia.exceptions.PageError as e:\n",
        "    print(\"Sorry, I could not find any information on that topic.\")"
      ]
    }
  ]
}